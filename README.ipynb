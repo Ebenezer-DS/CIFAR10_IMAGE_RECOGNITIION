{
 "cells": [
  {
   "cell_type": "markdown",
   "id": "6b093004-9f5a-4b2a-9ba1-44fa7f42dc73",
   "metadata": {},
   "source": [
    "__CIFAR-10 Multi-Class Image Classification App__"
   ]
  },
  {
   "cell_type": "markdown",
   "id": "0e2fafb7-8fe2-4b28-90dd-310996045426",
   "metadata": {},
   "source": [
    "This is a Streamlit web application for classifying images from the CIFAR-10 dataset into one of ten classes. The app uses a pre-trained Convolutional Neural Network (CNN) model to predict the class of an uploaded or randomly selected image from the CIFAR-10 dataset."
   ]
  },
  {
   "cell_type": "markdown",
   "id": "19ed68c1-7307-4dd6-8c3c-c3a64dd82592",
   "metadata": {},
   "source": [
    "__Table of Contents__"
   ]
  },
  {
   "cell_type": "markdown",
   "id": "644b4d0d-f9e9-4af9-838a-f9ced0c92f13",
   "metadata": {},
   "source": [
    "- Introduction\n",
    "- App Features\n",
    "- Installation\n",
    "- Usage\n",
    "- Model Performance\n",
    "- License"
   ]
  },
  {
   "cell_type": "markdown",
   "id": "df086aa4-5f29-49ee-a752-69f5f73140c9",
   "metadata": {},
   "source": [
    "__Introduction__"
   ]
  },
  {
   "cell_type": "markdown",
   "id": "93fda4d4-786c-4349-8d45-c9ac669dd54f",
   "metadata": {},
   "source": [
    "CIFAR-10 is a popular image classification dataset that contains 60,000 32x32 color images in 10 classes, with 6,000 images per class. This app allows you to upload an image in various formats (PNG, JPG, JPEG, WEBP) and use a pre-trained CNN model to classify the image into one of the following categories:"
   ]
  },
  {
   "cell_type": "markdown",
   "id": "c8fc5f9c-508f-4bf2-9b9f-ce4dbbefb257",
   "metadata": {},
   "source": [
    "- Airplane\n",
    "- Automobile\n",
    "- Bird\n",
    "- Cat\n",
    "- Deer\n",
    "- Dog\n",
    "- Frog\n",
    "- Horse\n",
    "- Ship\n",
    "- Truck"
   ]
  },
  {
   "cell_type": "markdown",
   "id": "3ecb99d7-f9c8-4953-963e-b23830d4a6d0",
   "metadata": {},
   "source": [
    "__App Features__"
   ]
  },
  {
   "cell_type": "markdown",
   "id": "957e475d-7318-4105-92f1-787d955cd29d",
   "metadata": {},
   "source": [
    "- **Upload an Image**: Users can upload an image in PNG, JPG, JPEG, or WEBP format for classification.\n",
    "- **Random Image Classification**: Users can also select a random image from the CIFAR-10 test set and view its predicted class.\n",
    "- **Prediction Results**: The app shows the top predictions with their probabilities and displays a bar plot of class probabilities.\n",
    "- **Model Output**: Displays a detailed classification report, including precision, recall, and F1-score for each class."
   ]
  },
  {
   "cell_type": "markdown",
   "id": "e7bce01a-2d24-4987-a2b4-a4df8a9308dc",
   "metadata": {},
   "source": [
    "**Installation**"
   ]
  },
  {
   "cell_type": "markdown",
   "id": "a1635b5d-8536-4a12-9cdf-4c7fdac9f651",
   "metadata": {},
   "source": [
    "**Prerequisites**"
   ]
  },
  {
   "cell_type": "markdown",
   "id": "720cb1a7-3a0b-4451-a516-297568f799ed",
   "metadata": {},
   "source": [
    "- Python 3.6 or higher\n",
    "- Streamlit\n",
    "- TensorFlow\n",
    "- Matplotlib\n",
    "- Seaborn\n",
    "- Pillow"
   ]
  },
  {
   "cell_type": "markdown",
   "id": "910c6952-d276-4ac7-b3d0-6b13f23de93e",
   "metadata": {},
   "source": [
    "You can install the required libraries using pip:"
   ]
  },
  {
   "cell_type": "code",
   "execution_count": null,
   "id": "842f8e65-c4de-4c76-8aef-57736e87968b",
   "metadata": {},
   "outputs": [],
   "source": [
    "pip install streamlit tensorflow matplotlib seaborn pillow"
   ]
  },
  {
   "cell_type": "markdown",
   "id": "87b7ec30-319c-4575-9418-e1f7a1992ee8",
   "metadata": {},
   "source": [
    "**Running the App**"
   ]
  },
  {
   "cell_type": "markdown",
   "id": "8e4db767-0f87-4670-8ba4-356cc876966d",
   "metadata": {},
   "source": [
    "1. Clone or download the repository.\n",
    "2. Navigate to the project directory in your terminal.\n",
    "3. Run the Streamlit app:"
   ]
  },
  {
   "cell_type": "code",
   "execution_count": null,
   "id": "18a0e50e-60ee-4831-8f94-b449c88bf338",
   "metadata": {},
   "outputs": [],
   "source": [
    "streamlit run app.py"
   ]
  },
  {
   "cell_type": "markdown",
   "id": "2b28f06c-bb13-4c92-88a8-e49c05f05f63",
   "metadata": {},
   "source": [
    "Once the app is running, open your browser and go to http://localhost:8501 to interact with the app."
   ]
  },
  {
   "cell_type": "markdown",
   "id": "2a8a500c-920e-4371-85f8-88e0efd4c27f",
   "metadata": {},
   "source": [
    "**Usage**"
   ]
  },
  {
   "cell_type": "markdown",
   "id": "0d100e96-d0d3-4ad0-8f84-e46c3e447d5a",
   "metadata": {},
   "source": [
    "Once the app is running, you'll see two main options:\n",
    "\n",
    "1. Upload an Image: Click to upload an image in one of the supported formats. After uploading, the model will predict the class of the image, and you will see the prediction results and a bar plot of the class probabilities.\n",
    "2. Select a Random Test Image: This option allows you to test the model on a random image from the CIFAR-10 test dataset. The model will predict the class and show the prediction results along with a bar plot."
   ]
  },
  {
   "cell_type": "markdown",
   "id": "caa47c45-9caf-4cc0-8880-6619b61b39ae",
   "metadata": {},
   "source": [
    "**Model Performance**\n"
   ]
  },
  {
   "cell_type": "markdown",
   "id": "1293e22a-5c6d-45d1-9fac-fde9c172fb3c",
   "metadata": {},
   "source": [
    "The pre-trained CNN model has been evaluated on the CIFAR-10 test set, and the following classification report summarizes its performance:"
   ]
  },
  {
   "cell_type": "markdown",
   "id": "2505ea32-d718-4163-aef1-9659af70a91a",
   "metadata": {},
   "source": [
    "**Classification Report**"
   ]
  },
  {
   "cell_type": "raw",
   "id": "6253a6a0-ef7f-4119-bc4f-2277879b726b",
   "metadata": {},
   "source": [
    "\n",
    "Class  Precision   Recall F1-Score Support\n",
    "Airplane\t0.89\t0.90\t0.90\t1000\n",
    "Automobile\t0.94\t0.96\t0.95\t1000\n",
    "Bird\t    0.89\t0.79\t0.84\t1000\n",
    "Cat     \t0.83\t0.72\t0.77\t1000\n",
    "Deer\t    0.85\t0.89\t0.87\t1000\n",
    "Dog     \t0.84\t0.81\t0.83\t1000\n",
    "Frog\t    0.82\t0.97\t0.89\t1000\n",
    "Horse\t    0.92\t0.92\t0.92\t1000\n",
    "Ship\t    0.94\t0.94\t0.94\t1000\n",
    "Truck\t    0.92\t0.94\t0.93\t1000\n"
   ]
  },
  {
   "cell_type": "markdown",
   "id": "73e64b35-94db-4c81-b3c3-300b5d089784",
   "metadata": {},
   "source": [
    "**Overall Accuracy**"
   ]
  },
  {
   "cell_type": "markdown",
   "id": "417c332c-458a-444a-983d-9cc1c2f623b2",
   "metadata": {},
   "source": [
    "- Accuracy: 0.88 (88%)"
   ]
  },
  {
   "cell_type": "markdown",
   "id": "a30655aa-c800-4884-8c35-fd6054780dd2",
   "metadata": {},
   "source": [
    "**Macro and Weighted Averages**"
   ]
  },
  {
   "cell_type": "markdown",
   "id": "2dbae798-f550-4eb7-bca5-2149565cf3cc",
   "metadata": {},
   "source": [
    "* Macro Average:\n",
    "    * Precision: 0.88\n",
    "    * Recall: 0.88\n",
    "    * F1-Score: 0.88\n",
    "* Weighted Average:\n",
    "    * Precision: 0.88\n",
    "    * Recall: 0.88\n",
    "    * F1-Score: 0.88"
   ]
  },
  {
   "cell_type": "markdown",
   "id": "ef3d18cd-75c7-4843-bf30-42800884a004",
   "metadata": {},
   "source": [
    "**License**"
   ]
  },
  {
   "cell_type": "markdown",
   "id": "99632403-64c5-4ca9-942a-27ddfdae92c5",
   "metadata": {},
   "source": [
    "This app is released under the MIT License."
   ]
  },
  {
   "cell_type": "markdown",
   "id": "9213de37-64ba-41b4-8433-23d940a36b3f",
   "metadata": {},
   "source": [
    "Feel free to modify and use the app for your projects! If you encounter any issues or have any questions, please open an issue in the repository."
   ]
  },
  {
   "cell_type": "code",
   "execution_count": null,
   "id": "1844428b-89ec-4711-bcc3-019772ad6211",
   "metadata": {},
   "outputs": [],
   "source": []
  }
 ],
 "metadata": {
  "kernelspec": {
   "display_name": "Python 3 (ipykernel)",
   "language": "python",
   "name": "python3"
  },
  "language_info": {
   "codemirror_mode": {
    "name": "ipython",
    "version": 3
   },
   "file_extension": ".py",
   "mimetype": "text/x-python",
   "name": "python",
   "nbconvert_exporter": "python",
   "pygments_lexer": "ipython3",
   "version": "3.12.4"
  }
 },
 "nbformat": 4,
 "nbformat_minor": 5
}
